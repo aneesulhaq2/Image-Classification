{
  "cells": [
    {
      "cell_type": "code",
      "execution_count": null,
      "id": "aef871a3",
      "metadata": {
        "id": "aef871a3"
      },
      "outputs": [],
      "source": [
        "import keras\n",
        "import tensorflow\n",
        "from keras.datasets import fashion_mnist\n",
        "from keras.layers import Dense, Activation, Flatten, Conv2D, MaxPooling2D\n",
        "from keras.models import Sequential\n",
        "from tensorflow.keras.utils import to_categorical\n",
        "import numpy as np\n",
        "import matplotlib.pyplot as plt"
      ]
    },
    {
      "cell_type": "code",
      "execution_count": null,
      "id": "7004e4ae",
      "metadata": {
        "id": "7004e4ae"
      },
      "outputs": [],
      "source": [
        "(train_X,train_Y),(test_X,test_Y) = fashion_mnist.load_data()\n",
        "train_X = train_X.reshape(-1,28,28,1)\n",
        "test_X = test_X.reshape(-1,28,28,1)"
      ]
    },
    {
      "cell_type": "code",
      "execution_count": null,
      "id": "ae653901",
      "metadata": {
        "id": "ae653901"
      },
      "outputs": [],
      "source": [
        "train_X = train_X.astype('float32')\n",
        "test_X = test_X.astype('float32')\n",
        "train_X = train_X/255\n",
        "test_X = test_X/255\n",
        "train_Y_one_hot = to_categorical(train_Y)\n",
        "test_Y_one_hot = to_categorical(test_Y)"
      ]
    },
    {
      "cell_type": "code",
      "execution_count": null,
      "id": "17471d7e",
      "metadata": {
        "id": "17471d7e"
      },
      "outputs": [],
      "source": [
        "model = Sequential()\n",
        "model.add(Conv2D(64,(3,3),input_shape = (28,28,1)))\n",
        "model.add(Activation('relu'))\n",
        "model.add(MaxPooling2D(pool_size = (2,2)))\n",
        "model.add(Conv2D(64,(3,3)))\n",
        "model.add(Activation('relu'))\n",
        "model.add(MaxPooling2D(pool_size=(2,2)))"
      ]
    },
    {
      "cell_type": "code",
      "execution_count": null,
      "id": "3b144b40",
      "metadata": {
        "id": "3b144b40"
      },
      "outputs": [],
      "source": [
        "model.add(Flatten())\n",
        "model.add(Dense(64))"
      ]
    },
    {
      "cell_type": "code",
      "execution_count": null,
      "id": "efd1914d",
      "metadata": {
        "id": "efd1914d"
      },
      "outputs": [],
      "source": [
        "model.add(Dense(10))\n",
        "model.add(Activation('softmax'))"
      ]
    },
    {
      "cell_type": "code",
      "execution_count": null,
      "id": "55d6baf2",
      "metadata": {
        "id": "55d6baf2"
      },
      "outputs": [],
      "source": [
        "model.compile(loss = keras.losses.categorical_crossentropy,optimizer = 'adam')"
      ]
    },
    {
      "cell_type": "code",
      "execution_count": null,
      "id": "41a3d272",
      "metadata": {
        "id": "41a3d272",
        "outputId": "f2dbef17-02f1-471f-b9e6-2b34781ab088"
      },
      "outputs": [
        {
          "name": "stdout",
          "output_type": "stream",
          "text": [
            "938/938 [==============================] - 36s 37ms/step - loss: 0.4729\n"
          ]
        },
        {
          "data": {
            "text/plain": [
              "<keras.callbacks.History at 0x1db88571c70>"
            ]
          },
          "execution_count": 8,
          "metadata": {},
          "output_type": "execute_result"
        }
      ],
      "source": [
        "model.fit(train_X,train_Y_one_hot,batch_size = 64,epochs = 1)"
      ]
    },
    {
      "cell_type": "code",
      "execution_count": null,
      "id": "45ce881a",
      "metadata": {
        "id": "45ce881a",
        "outputId": "c23c35c7-db43-4164-92a4-0f0da5342362"
      },
      "outputs": [
        {
          "name": "stdout",
          "output_type": "stream",
          "text": [
            "313/313 [==============================] - 3s 7ms/step - loss: 0.3571\n",
            "Test loss 0.35712864995002747\n"
          ]
        }
      ],
      "source": [
        "test_loss = model.evaluate(test_X,test_Y_one_hot,verbose = 1)\n",
        "print('Test loss',test_loss)"
      ]
    },
    {
      "cell_type": "code",
      "execution_count": null,
      "id": "e63801dc",
      "metadata": {
        "id": "e63801dc"
      },
      "outputs": [],
      "source": [
        "predictions = model.predict(test_X)"
      ]
    },
    {
      "cell_type": "code",
      "execution_count": null,
      "id": "76890d80",
      "metadata": {
        "id": "76890d80",
        "outputId": "e80fad48-6de5-4f09-e05e-ced0bb44f8ad"
      },
      "outputs": [
        {
          "name": "stdout",
          "output_type": "stream",
          "text": [
            "6\n"
          ]
        }
      ],
      "source": [
        "print(np.argmax(np.round(predictions[7])))"
      ]
    },
    {
      "cell_type": "code",
      "execution_count": null,
      "id": "15b35656",
      "metadata": {
        "id": "15b35656"
      },
      "outputs": [],
      "source": [
        "plt.imshow(test_X[7].reshape(28,28),cmap=plt.cm.binary)"
      ]
    }
  ],
  "metadata": {
    "kernelspec": {
      "display_name": "Python 3 (ipykernel)",
      "language": "python",
      "name": "python3"
    },
    "language_info": {
      "codemirror_mode": {
        "name": "ipython",
        "version": 3
      },
      "file_extension": ".py",
      "mimetype": "text/x-python",
      "name": "python",
      "nbconvert_exporter": "python",
      "pygments_lexer": "ipython3",
      "version": "3.9.12"
    },
    "colab": {
      "provenance": []
    }
  },
  "nbformat": 4,
  "nbformat_minor": 5
}